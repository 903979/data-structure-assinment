{
  "nbformat": 4,
  "nbformat_minor": 0,
  "metadata": {
    "colab": {
      "provenance": []
    },
    "kernelspec": {
      "name": "python3",
      "display_name": "Python 3"
    },
    "language_info": {
      "name": "python"
    }
  },
  "cells": [
    {
      "cell_type": "markdown",
      "source": [
        "1. What are data structures, and why are they important ?\n",
        "\n",
        "\n",
        "ans :- Data structures are ways to organize and store data in a computer, enabling efficient access and modification.\n",
        "Why they're important:\n",
        "They make programs faster and more organized, allowing for effective handling of large amounts of information.\n",
        "They are essential for effecient algorithm design"
      ],
      "metadata": {
        "id": "WMzuHiJaTXVW"
      }
    },
    {
      "cell_type": "markdown",
      "source": [
        "2.Explain the difference between mutable and immutable data types with examples ?\n",
        "\n",
        "Ans:- In programming, the difference between mutable and immutable data types boils down to whether their values can be changed after they're created:\n",
        "\n",
        "Mutable Data Types:\n",
        "These can be modified after they're created.\n",
        "Changes happen \"in place,\" meaning the original object is altered.\n",
        "Examples (in Python):\n",
        "Lists\n",
        "Dictionaries\n",
        "Sets\n",
        "Immutable Data Types:\n",
        "These cannot be changed after they're created.\n",
        "Any \"modification\" actually creates a new object.\n",
        "Examples (in Python):\n",
        "Strings\n",
        "Tuples\n",
        "Integers\n",
        "Floats."
      ],
      "metadata": {
        "id": "_yOgsRtTTxIH"
      }
    },
    {
      "cell_type": "markdown",
      "source": [
        "3.What are the main differences between lists and tuples in Python ?\n",
        "\n",
        "\n",
        "Ans:- Here's a concise breakdown of the main differences between lists and tuples in Python:\n",
        "\n",
        "Mutability:\n",
        "Lists are mutable (changeable).\n",
        "Tuples are immutable (unchangeable).\n",
        "Syntax:\n",
        "Lists are defined using square brackets [].\n",
        "Tuples are defined using parentheses ().\n",
        "Use Cases:\n",
        "Lists are used for collections of items that may need to be modified.\n",
        "Tuples are used for collections of items that should remain constant.\n",
        "Performance:\n",
        "Tuples are generally slightly faster than lists due to their immutability."
      ],
      "metadata": {
        "id": "YkvQFtCAUOVC"
      }
    },
    {
      "cell_type": "markdown",
      "source": [
        "4. Describe how dictionaries store data?\n",
        "\n",
        "Ans:-Dictionaries in Python store data as key-value pairs. Here's a simplified explanation:\n",
        "\n",
        "* **Key-Value Pairs:**\n",
        "    * Think of it like a real-world dictionary: you look up a \"key\" (like a word) to find its associated \"value\" (like the definition).\n",
        "    * In Python, these keys can be various immutable data types (like strings or numbers), and the values can be any data type.\n",
        "* **Hashing:**\n",
        "    * Python dictionaries use a technique called \"hashing\" to efficiently locate values.\n",
        "    * This means that when you provide a key, the dictionary can quickly find its corresponding value, even in very large dictionaries.\n",
        "* **Unordered:**\n",
        "    * Before Python 3.7, dictionaries were unordered, meaning the order of key-value pairs wasn't guaranteed.\n",
        "    * Now in python 3.7 and above, dictionaries retain insertion order.\n",
        "* **In short:**\n",
        "    * Dictionaries use keys to quickly access associated values, making them very efficient for looking up data.\n"
      ],
      "metadata": {
        "id": "t0EhCRztUjTE"
      }
    },
    {
      "cell_type": "markdown",
      "source": [
        "5.Why might you use a set instead of a list in Python ?\n",
        "\n",
        "Ans:-You'd use a set instead of a list in Python primarily for these reasons:\n",
        "\n",
        "* **Uniqueness:**\n",
        "    * Sets automatically ensure that all elements are unique, eliminating duplicates.\n",
        "* **Fast Membership Testing:**\n",
        "    * Checking if an element is present in a set is significantly faster than in a list, especially for large collections.\n",
        "* **Set Operations:**\n",
        "    * Sets provide built-in operations like union, intersection, and difference, which are useful for working with collections of unique items.\n",
        "* **In short:**\n",
        "    * When you need a collection of unique items and fast lookups, sets are the better choice.\n"
      ],
      "metadata": {
        "id": "aMbUmMq-U2wG"
      }
    },
    {
      "cell_type": "markdown",
      "source": [
        "6.What is a string in Python, and how is it different from a list ?\n",
        "\n",
        "Ans:- n Python:\n",
        "\n",
        "String:\n",
        "A string is a sequence of characters.\n",
        "It's used to represent text.\n",
        "It's immutable (cannot be changed after creation).\n",
        "Example: \"Hello, world!\"\n",
        "\n",
        "\n",
        "List:\n",
        "A list is an ordered sequence of elements.\n",
        "It can contain elements of any data type.\n",
        "It's mutable (can be changed after creation).\n",
        "Example: [1, 2, \"apple\", 3.14]\n",
        "Key Difference:\n",
        "\n",
        "Strings are for text, and they can't be modified directly. Lists are versatile containers for various data types, and they can be altered."
      ],
      "metadata": {
        "id": "DXyaW7DBVOjl"
      }
    },
    {
      "cell_type": "markdown",
      "source": [
        "7.How do tuples ensure data integrity in Python ?\n",
        "\n",
        "Ans:- Tuples ensure data integrity in Python through their **immutability**. Here's how:\n",
        "\n",
        "* **Unchangeable:**\n",
        "    * Once a tuple is created, its elements cannot be modified, added, or removed.\n",
        "* **Protection:**\n",
        "    * This immutability prevents accidental or unintended changes to the data, ensuring it remains consistent.\n",
        "* **Reliability:**\n",
        "    * When you pass a tuple to a function or use it in a data structure, you can be confident that its contents will not be altered.\n",
        "* **In short:**\n",
        "    * By being unchangeable, tuples provide a guarantee that the data they hold will remain intact, protecting it from modification.\n"
      ],
      "metadata": {
        "id": "lTG3PX7cVjyG"
      }
    },
    {
      "cell_type": "markdown",
      "source": [
        "8.What is a hash table, and how does it relate to dictionaries in Python ?\n",
        "\n",
        "\n",
        "Ans:- A hash table is a data structure that stores key-value pairs using a hash function. Here's how it relates to Python dictionaries:\n",
        "\n",
        "* **Hash Table:**\n",
        "    * It uses a hash function to convert keys into indexes in an array (the \"hash table\").\n",
        "    * This allows for very fast lookups, insertions, and deletions.\n",
        "* **Python Dictionaries:**\n",
        "    * Python dictionaries are implemented using hash tables.\n",
        "    * When you access a value using a key in a dictionary, Python uses a hash function to locate the value quickly.\n",
        "* **Relationship:**\n",
        "    * Essentially, a hash table is the underlying mechanism that makes Python dictionaries so efficient.\n",
        "    * Dictionaries are python's implementation of the hash table data structure.\n",
        "\n"
      ],
      "metadata": {
        "id": "0P0gEbDnV1Wy"
      }
    },
    {
      "cell_type": "markdown",
      "source": [
        "9.Can lists contain different data types in Python?\n",
        "\n",
        "Ans:-Yes, Python lists are known for their flexibility, and one of their key features is that they can indeed contain elements of different data types. This is often referred to as \"heterogeneous\" data."
      ],
      "metadata": {
        "id": "qdZG_KrGWInU"
      }
    },
    {
      "cell_type": "markdown",
      "source": [
        "10. Explain why strings are immutable in Python\n",
        "\n",
        "Ans:- Strings in Python are immutable primarily for these reasons:\n",
        "\n",
        "* **Memory Efficiency:**\n",
        "    * If strings were mutable, every modification would require allocating new memory, potentially leading to significant overhead, especially with frequent changes. Immutability allows Python to optimize memory usage by sharing string values.\n",
        "    * For example, if multiple variables hold the same string value, Python can point them to the same memory location.\n",
        "* **Performance:**\n",
        "    * Immutable strings can be used as dictionary keys and set elements, which require hashable objects. Hashable objects must be immutable.\n",
        "    * Immutable objects simplify things like caching, as the value will never change.\n",
        "* **Data Integrity:**\n",
        "    * Immutability prevents accidental modification of string data, ensuring that a string's value remains consistent throughout a program. This is especially important when strings are passed as arguments to functions or shared between different parts of a program.\n",
        "* **Thread Safety:**\n",
        "    * Immutability makes strings inherently thread-safe. Multiple threads can access and use the same string without the risk of data corruption.\n",
        "* **In short:**\n",
        "    * Immutability enhances performance, memory efficiency, data integrity, and thread safety.\n",
        "\n"
      ],
      "metadata": {
        "id": "MGtOiztnWbfc"
      }
    },
    {
      "cell_type": "markdown",
      "source": [
        "11.What advantages do dictionaries offer over lists for certain tasks ?\n",
        "\n",
        "Ans:-Dictionaries offer several key advantages over lists for specific tasks, primarily related to efficient data retrieval and organization:\n",
        "\n",
        "* **Fast Lookups:**\n",
        "    * Dictionaries use keys to access values, allowing for very fast lookups, especially in large datasets. Lists, on the other hand, require iterating through the entire list to find a specific element.\n",
        "* **Key-Based Access:**\n",
        "    * Dictionaries allow you to access data using meaningful keys (like names or IDs), making your code more readable and maintainable. Lists rely on numerical indices, which can be less intuitive.\n",
        "* **Efficient Data Association:**\n",
        "    * Dictionaries excel at storing and retrieving data that has a natural key-value relationship. For example, storing user information (name: age, name: address).\n",
        "* **Uniqueness of Keys:**\n",
        "    * Dictionaries enforce unique keys, preventing duplicate entries. This can be useful for tasks where you need to ensure data integrity.\n",
        "* **In short:**\n",
        "    * Dictionaries are superior when you need to quickly look up data based on a key or when you're working with data that has a clear key-value relationship. Lists are better for ordered sequences of items where the order matters.\n"
      ],
      "metadata": {
        "id": "UVM6hLYlWl1C"
      }
    },
    {
      "cell_type": "markdown",
      "source": [
        "12. Describe a scenario where using a tuple would be preferable over a list?\n",
        "\n",
        "Ans:-A scenario where using a tuple would be preferable over a list is when you need to represent a fixed collection of related items that should not be modified. Here's a specific example:\n",
        "\n",
        "* **Representing Coordinates:**\n",
        "    * Imagine you're working with geographical coordinates (latitude and longitude). These coordinates are inherently a pair of values that should remain constant.\n",
        "    * You could represent a location as a tuple: `location = (latitude, longitude)`.\n",
        "    * Using a tuple here ensures that the coordinates are not accidentally changed during program execution, maintaining data integrity.\n",
        "    * This is preferable over a list because, if you used a list, someone could accidently modify the latitude or longitude values.\n",
        "    * Example:\n",
        "        * `city_coordinates = (40.7128, -74.0060)` # New York City\n",
        "        * Passing this tuple to functions or storing it in other data structures guarantees that these coordinates will not be altered.\n",
        "\n",
        "In essence, when you want to create a collection of values that should be treated as a single, unchangeable entity, tuples are the ideal choice.\n"
      ],
      "metadata": {
        "id": "yNdcETnGW1aU"
      }
    },
    {
      "cell_type": "markdown",
      "source": [
        "13. How do sets handle duplicate values in Python ?\n",
        "\n",
        "Ans:-  Python sets automatically eliminate duplicate values. Here's how:\n",
        "\n",
        "Unique Elements:\n",
        "Sets in Python are designed to only contain unique items.\n",
        "Duplicate Discarding:\n",
        "When you try to add a duplicate element to a set, it simply ignores the addition.\n",
        "Result:\n",
        "Therefore, a set will always contain only one instance of each value.\n"
      ],
      "metadata": {
        "id": "Z5mzIZucXDBi"
      }
    },
    {
      "cell_type": "markdown",
      "source": [
        "14.How does the “in” keyword work differently for lists and dictionaries ?\n",
        "\n",
        "Ans:-The `in` keyword in Python operates differently for lists and dictionaries due to their distinct data structures:\n",
        "\n",
        "* **Lists:**\n",
        "    * When used with a list, the `in` keyword performs a linear search.\n",
        "    * It iterates through the list's elements sequentially, comparing each element to the value you're searching for.\n",
        "    * This means that the time it takes to find an element can increase proportionally to the list's size.\n",
        "    * Essentially, it checks if a value exists as an element anywhere within the list.\n",
        "* **Dictionaries:**\n",
        "    * When used with a dictionary, the `in` keyword checks for the presence of a key.\n",
        "    * Because dictionaries use hash tables, this lookup is very efficient, typically taking constant time (O(1)) on average.\n",
        "    * It does *not* search for values, but rather for keys.\n",
        "    * It checks if a key exists within the dictionary.\n",
        "\n",
        "**In summary:**\n",
        "\n",
        "* For lists, `in` performs a slow, linear search through values.\n",
        "* For dictionaries, `in` performs a fast, hash-based lookup for keys.\n"
      ],
      "metadata": {
        "id": "ZGD8xjOsXZ52"
      }
    },
    {
      "cell_type": "markdown",
      "source": [
        "15.P Can you modify the elements of a tuple? Explain why or why not.\n",
        "\n",
        "Ans:-No, you cannot modify the elements of a tuple in Python.\n",
        "\n",
        "Here's why:\n",
        "\n",
        "* **Immutability:**\n",
        "    * Tuples are immutable data structures. This means that once a tuple is created, its contents cannot be changed.\n",
        "    * You cannot add, remove, or change the values of individual elements within a tuple.\n",
        "* **Consequences:**\n",
        "    * This immutability ensures data integrity and consistency.\n",
        "    * It also allows Python to optimize memory usage, as it can safely assume that the contents of a tuple will remain constant.\n",
        "* **Workarounds:**\n",
        "    * If you need to modify a sequence of elements, you should use a list instead.\n",
        "    * If you have a tuple and need to make changes, you can convert it to a list, modify the list, and then convert it back to a tuple if necessary.\n",
        "    * Example:\n",
        "        ```python\n",
        "        my_tuple = (1, 2, 3)\n",
        "        my_list = list(my_tuple) # convert tuple to list\n",
        "        my_list[1] = 4 # modify the list\n",
        "        my_tuple = tuple(my_list) # convert list back to tuple\n",
        "        print(my_tuple) #output (1, 4, 3)\n",
        "        ```\n",
        "    * Note that in the example, a new tuple is being created. The original tuple is not being modified.\n",
        "\n",
        "In essence, tuples are designed for situations where you need a fixed, unchangeable sequence of values.\n"
      ],
      "metadata": {
        "id": "susG8-W7Xk1j"
      }
    },
    {
      "cell_type": "markdown",
      "source": [
        "16.What is a nested dictionary, and give an example of its use case ?\n",
        "\n",
        "Ans:-A nested dictionary in Python is a dictionary where one or more values are also dictionaries. This allows you to create hierarchical data structures, representing more complex relationships.\n",
        "\n",
        "**Example:**\n",
        "\n",
        "```python\n",
        "student_data = {\n",
        "    \"Alice\": {\n",
        "        \"age\": 20,\n",
        "        \"major\": \"Computer Science\",\n",
        "        \"grades\": {\n",
        "            \"math\": 90,\n",
        "            \"science\": 85,\n",
        "            \"english\": 92\n",
        "        }\n",
        "    },\n",
        "    \"Bob\": {\n",
        "        \"age\": 22,\n",
        "        \"major\": \"Physics\",\n",
        "        \"grades\": {\n",
        "            \"math\": 78,\n",
        "            \"science\": 95,\n",
        "            \"english\": 88\n",
        "        }\n",
        "    }\n",
        "}\n",
        "```\n",
        "\n",
        "**Use Case:**\n",
        "\n",
        "* **Storing Complex Data:**\n",
        "    * The example above demonstrates a common use case: representing structured data about students.\n",
        "    * It stores each student's information (age, major, grades) as a nested dictionary.\n",
        "    * This allows you to easily access and manipulate individual student details and their grades.\n",
        "    * Another example would be storing information about a company's employees, where each employee's entry might contain nested dictionaries for their address, department, and project assignments.\n",
        "* **Configuration Files:**\n",
        "    * Nested dictionaries are often used to represent configuration settings for applications.\n",
        "    * You can organize settings into logical groups, making it easy to manage and access them.\n",
        "* **Representing JSON Data:**\n",
        "    * When working with JSON (JavaScript Object Notation) data, which is commonly used in web APIs, nested dictionaries are a natural way to represent the structure of the data.\n",
        "* **Database-like Structures:**\n",
        "    * Nested dictionaries can mimic simple database-like structures within your Python code.\n",
        "    * This can be useful for small-scale data storage and retrieval.\n"
      ],
      "metadata": {
        "id": "naa6gTtrX1vx"
      }
    },
    {
      "cell_type": "markdown",
      "source": [
        "17. Describe the time complexity of accessing elements in a dictionary?\n",
        "\n",
        "Ans:- The time complexity of accessing elements in a Python dictionary is, on average, **O(1)**, which is considered constant time. Here's a breakdown:\n",
        "\n",
        "* **Hash Tables:**\n",
        "    * Python dictionaries are implemented using hash tables.\n",
        "    * Hash tables use a hash function to map keys to their corresponding values' memory locations.\n",
        "* **Constant Time (O(1)):**\n",
        "    * When you access a value using its key, Python calculates the key's hash value and uses it to directly locate the value's memory address.\n",
        "    * This process takes a fixed amount of time, regardless of the dictionary's size, hence O(1).\n",
        "* **Worst-Case Scenario:**\n",
        "    * In rare cases, if there are hash collisions (multiple keys mapping to the same memory location), the time complexity can degrade to O(n), where n is the number of items in the dictionary.\n",
        "    * However, Python's hash function is designed to minimize collisions, so O(1) is the typical performance.\n",
        "* **In short:**\n",
        "    * Accessing elements in a dictionary is generally very fast, taking constant time (O(1)) on average.\n"
      ],
      "metadata": {
        "id": "t59fPSr_YENZ"
      }
    },
    {
      "cell_type": "markdown",
      "source": [],
      "metadata": {
        "id": "fKoDTcn0YQ4p"
      }
    },
    {
      "cell_type": "markdown",
      "source": [
        "18.  In what situations are lists preferred over dictionaries ?\n",
        "\n",
        "Ans:- Ah, a fine question! Lists and dictionaries are both fundamental data structures, but they shine in different scenarios. You'd likely prefer a list over a dictionary when:\n",
        "\n",
        "1.  **Maintaining Order Matters:** If the sequence of items is significant, a list is the clear winner. Think about a list of steps in a recipe, the order of songs in a playlist, or a queue of tasks to be processed. Dictionaries, before Python 3.7, didn't guarantee any specific order of their elements. Even now, while insertion order is preserved, the primary purpose isn't sequential access.\n",
        "\n",
        "2.  **You Only Care About the Items Themselves:** If you simply need to store a collection of items and don't need to quickly look them up based on a specific key, a list is more straightforward. For example, a list of names, a collection of sensor readings in chronological order, or a batch of images to process.\n",
        "\n",
        "3.  **Duplicate Values are Allowed and Meaningful:** Lists can happily store duplicate values, and these duplicates might be important. For instance, a list of survey responses where the same answer can appear multiple times. Dictionaries, on the other hand, require unique keys (though values can be duplicated).\n",
        "\n",
        "4.  **Iterating Through All Items in a Specific Order:** Lists are optimized for iterating through their elements from beginning to end. If you need to process each item in the order it was added, a list is the natural choice.\n",
        "\n",
        "5.  **Memory Efficiency for Simple Sequences:** For simple sequences of the same data type, lists can sometimes be slightly more memory-efficient than dictionaries due to the overhead of storing keys and hash tables in dictionaries. However, this difference is often negligible for most practical purposes.\n",
        "\n",
        "6.  **Building a Sequence Incrementally:** If you are building a collection of items one by one and the order of addition is important, the `append()` method of a list makes this very convenient.\n",
        "\n",
        "7.  **Implementing Stack or Queue Data Structures:** Lists can be easily used to implement basic stack (using `append()` and `pop()`) or queue (using `append()` and `pop(0)`) data structures.\n",
        "\n",
        "In essence, choose a list when the *position* or *order* of the items is crucial, or when you simply need an ordered collection without the need for key-based lookups. Dictionaries, as you know, excel when you need to quickly retrieve values based on unique keys. Each has its strengths!"
      ],
      "metadata": {
        "id": "r4jdnM8Ef_uS"
      }
    },
    {
      "cell_type": "markdown",
      "source": [],
      "metadata": {
        "id": "7XpkACghXXG-"
      }
    },
    {
      "cell_type": "markdown",
      "source": [
        "19. Why are dictionaries considered unordered, and how does that affect data retrieval ?\n",
        "\n",
        "Ans:- Ah, a classic point of confusion! Historically, and fundamentally in their design, dictionaries were considered unordered because the internal arrangement of their key-value pairs was not guaranteed to follow any specific sequence, especially the order in which the items were inserted.\n",
        "\n",
        "Think of it like a bag of labeled items. You can easily reach into the bag and grab any item by its label (the key), but the order in which those labeled items ended up in the bag isn't something you can rely on or predict. The dictionary's primary goal was efficient **key-based lookup**, not maintaining order.\n",
        "\n",
        "**Why this \"unordered\" behavior?**\n",
        "\n",
        "This lack of inherent order stemmed from the underlying implementation of dictionaries, which traditionally used hash tables. Hash tables are designed for speed in inserting, deleting, and, most importantly, *finding* elements. They achieve this by calculating a \"hash\" of the key, which determines where in memory the corresponding value is stored. This hashing process doesn't inherently preserve the order of insertion. Different keys might hash to seemingly random locations in the table.\n",
        "\n",
        "**How did this affect data retrieval?**\n",
        "\n",
        "The \"unordered\" nature had a few key implications for data retrieval:\n",
        "\n",
        "1.  **No Reliance on Indexing:** Unlike lists where you can access elements using their numerical index (e.g., `my_list[0]`), you could not retrieve items from a dictionary based on their position. You *had* to use the key. Trying to access a dictionary element by an index would result in a `TypeError`.\n",
        "\n",
        "2.  **Unpredictable Iteration Order (Pre-Python 3.7):** When you iterated through the items of a dictionary (e.g., using a `for` loop), the order in which the key-value pairs were yielded was arbitrary and could even change between different runs of the same program or across different Python implementations. This made it unreliable to perform operations that depended on a specific order of processing dictionary items.\n",
        "\n",
        "3.  **Focus on Key-Based Access:** The design encouraged and optimized retrieval based on the key. If you needed to find a specific piece of information, you would directly use its key, which was a very fast operation on average (O(1) time complexity).\n",
        "\n",
        "**The Modern Twist (Python 3.7+):**\n",
        "\n",
        "It's important to note that with the introduction of Python 3.7, this \"unordered\" behavior has changed as an implementation detail. Dictionaries now **remember the insertion order** of items. This means that when you iterate through a dictionary, the items will be returned in the order they were added.\n",
        "\n",
        "**However, the fundamental principle remains:** Dictionaries are primarily designed for efficient **key-based lookup**. While insertion order is now preserved, you still cannot access elements by index. The core strength of a dictionary lies in its ability to quickly find a value associated with a given key, regardless of where it was inserted.\n",
        "\n",
        "So, while the practical effect on iteration has lessened in modern Python, the *conceptual* understanding of dictionaries as being primarily key-based and not inherently ordered by position is still important. Their design and optimization are centered around the key-value relationship."
      ],
      "metadata": {
        "id": "oH2YrkIqgMZB"
      }
    },
    {
      "cell_type": "markdown",
      "source": [
        "20.Explain the difference between a list and a dictionary in terms of data retrieval?\n",
        "\n",
        "Ans:- Alright, let's break down how you get data out of lists versus dictionaries. The fundamental difference lies in *how* you identify and access the elements within each structure.\n",
        "\n",
        "**Data Retrieval from a List:**\n",
        "\n",
        "Think of a list like a numbered sequence or an ordered row of items. To get something from a list, you use its **position** or **index**.\n",
        "\n",
        "* **Access by Index:** Each item in a list has a numerical index, starting from 0 for the first element, 1 for the second, and so on. You retrieve an element by specifying its index within square brackets `[]`.\n",
        "\n",
        "    ```python\n",
        "    my_list = [\"apple\", \"banana\", \"cherry\"]\n",
        "    first_item = my_list[0]  # Accesses \"apple\"\n",
        "    second_item = my_list[1] # Accesses \"banana\"\n",
        "    ```\n",
        "\n",
        "* **Sequential Access (Iteration):** You can easily go through all the items in a list in their stored order using loops.\n",
        "\n",
        "    ```python\n",
        "    for item in my_list:\n",
        "        print(item)\n",
        "    ```\n",
        "\n",
        "* **Slicing:** You can retrieve a subset of the list (a \"slice\") by specifying a range of indices.\n",
        "\n",
        "    ```python\n",
        "    sub_list = my_list[0:2] # Gets [\"apple\", \"banana\"]\n",
        "    ```\n",
        "\n",
        "**Key takeaway for lists:** You retrieve data based on its **ordinal position** within the sequence. The order is inherent and important.\n",
        "\n",
        "**Data Retrieval from a Dictionary:**\n",
        "\n",
        "Now, imagine a dictionary as a collection of labeled items where each item has a unique name tag (the **key**) associated with it (the **value**). To get something from a dictionary, you use its **key**.\n",
        "\n",
        "* **Access by Key:** You retrieve a value by providing its corresponding key within square brackets `[]`.\n",
        "\n",
        "    ```python\n",
        "    my_dict = {\"name\": \"Alice\", \"age\": 30, \"city\": \"New York\"}\n",
        "    name = my_dict[\"name\"]  # Accesses \"Alice\"\n",
        "    age = my_dict[\"age\"]    # Accesses 30\n",
        "    ```\n",
        "\n",
        "* **Accessing Keys, Values, or Items:** Dictionaries provide methods to retrieve all the keys, all the values, or all the key-value pairs as separate views (which can be iterated over).\n",
        "\n",
        "    ```python\n",
        "    keys = my_dict.keys()   # Returns a view of [\"name\", \"age\", \"city\"]\n",
        "    values = my_dict.values() # Returns a view of [\"Alice\", 30, \"New York\"]\n",
        "    items = my_dict.items()  # Returns a view of [(\"name\", \"Alice\"), (\"age\", 30), (\"city\", \"New York\")]\n",
        "\n",
        "    for key, value in my_dict.items():\n",
        "        print(f\"{key}: {value}\")\n",
        "    ```\n",
        "\n",
        "* **Using `get()` Method:** You can also use the `get()` method to retrieve a value, which allows you to provide a default value if the key doesn't exist, preventing errors.\n",
        "\n",
        "    ```python\n",
        "    country = my_dict.get(\"country\", \"Unknown\") # Returns \"Unknown\" as \"country\" key doesn't exist\n",
        "    ```\n",
        "\n",
        "**Key takeaway for dictionaries:** You retrieve data based on a unique **identifier** (the key) associated with the value. The order of items (while preserved in modern Python) is not the primary means of access.\n",
        "\n",
        "**In Summary:**\n",
        "\n",
        "| Feature          | List                                      | Dictionary                                     |\n",
        "| ---------------- | ----------------------------------------- | ---------------------------------------------- |\n",
        "| **Retrieval By** | **Position (Index)** | **Unique Key** |\n",
        "| **Order** | Ordered sequence, order is significant     | Order of insertion is remembered (Python 3.7+), but primary access isn't based on order |\n",
        "| **Use Case** | Ordered collections, sequences of items   | Key-value mappings, lookups based on labels    |\n",
        "\n"
      ],
      "metadata": {
        "id": "jjwCe6PngZIc"
      }
    },
    {
      "cell_type": "markdown",
      "source": [
        "1.Write a code to create a string with your name and print it ?"
      ],
      "metadata": {
        "id": "yl6sulpOg3Cl"
      }
    },
    {
      "cell_type": "code",
      "source": [
        "my_name = \"Your Name\"\n",
        "print(my_name)"
      ],
      "metadata": {
        "colab": {
          "base_uri": "https://localhost:8080/"
        },
        "id": "AtpYp7Wxgp_O",
        "outputId": "b8b718a2-444b-44fa-9466-bb958355ecf9"
      },
      "execution_count": 1,
      "outputs": [
        {
          "output_type": "stream",
          "name": "stdout",
          "text": [
            "Your Name\n"
          ]
        }
      ]
    },
    {
      "cell_type": "markdown",
      "source": [
        "2.Write a code to find the length of the string \"Hello World\"?"
      ],
      "metadata": {
        "id": "UIUNERbthb2c"
      }
    },
    {
      "cell_type": "code",
      "source": [
        "# Store the string in a variable\n",
        "my_string = \"Hello World\"\n",
        "\n",
        "# Calculate the length of the string\n",
        "string_length = len(my_string)\n",
        "\n",
        "# Print the length of the string\n",
        "print(string_length)"
      ],
      "metadata": {
        "colab": {
          "base_uri": "https://localhost:8080/"
        },
        "id": "CJAmHP5ghHCG",
        "outputId": "191b119b-d92b-4951-87ab-cee82a503511"
      },
      "execution_count": 2,
      "outputs": [
        {
          "output_type": "stream",
          "name": "stdout",
          "text": [
            "11\n"
          ]
        }
      ]
    },
    {
      "cell_type": "markdown",
      "source": [
        "3.Write a code to slice the first 3 characters from the string \"Python Programming\""
      ],
      "metadata": {
        "id": "Hqb3n4ZGhg6A"
      }
    },
    {
      "cell_type": "code",
      "source": [
        "# Store the string in a variable\n",
        "my_string = \"Python Programming\"\n",
        "\n",
        "# Use string slicing to get the first 3 characters\n",
        "sliced_string = my_string[0:3]\n",
        "\n",
        "# Print the sliced string\n",
        "print(sliced_string)\n"
      ],
      "metadata": {
        "colab": {
          "base_uri": "https://localhost:8080/"
        },
        "id": "xhrDyEJehWpR",
        "outputId": "71e6dcb4-736a-4259-951a-f5f64aed13f3"
      },
      "execution_count": 3,
      "outputs": [
        {
          "output_type": "stream",
          "name": "stdout",
          "text": [
            "Pyt\n"
          ]
        }
      ]
    },
    {
      "cell_type": "markdown",
      "source": [
        "4.Write a code to convert the string \"hello\" to uppercase"
      ],
      "metadata": {
        "id": "UhqOcczJiHEO"
      }
    },
    {
      "cell_type": "code",
      "source": [
        "# Store the string in a variable\n",
        "my_string = \"hello\"\n",
        "\n",
        "# Convert the string to uppercase\n",
        "uppercase_string = my_string.upper()\n",
        "\n",
        "# Print the uppercase string\n",
        "print(uppercase_string)\n"
      ],
      "metadata": {
        "colab": {
          "base_uri": "https://localhost:8080/"
        },
        "id": "uadcyWQMiNjI",
        "outputId": "e77712c3-86dd-4fb3-e515-68be3551c9a6"
      },
      "execution_count": 4,
      "outputs": [
        {
          "output_type": "stream",
          "name": "stdout",
          "text": [
            "HELLO\n"
          ]
        }
      ]
    },
    {
      "cell_type": "markdown",
      "source": [
        "5.Write a code to replace the word \"apple\" with \"orange\" in the string \"I like apple\"."
      ],
      "metadata": {
        "id": "prhM4bSfjvsn"
      }
    },
    {
      "cell_type": "code",
      "source": [
        "my_string = \"I like apple\"\n",
        "new_string = my_string.replace(\"apple\", \"orange\")\n",
        "print(new_string)\n"
      ],
      "metadata": {
        "colab": {
          "base_uri": "https://localhost:8080/"
        },
        "id": "GRtFAEe3iqW1",
        "outputId": "486134f1-3d06-4bbe-8abb-768f53f955b1"
      },
      "execution_count": 5,
      "outputs": [
        {
          "output_type": "stream",
          "name": "stdout",
          "text": [
            "I like orange\n"
          ]
        }
      ]
    },
    {
      "cell_type": "markdown",
      "source": [
        "6.Write a code to create a list with numbers 1 to 5 and print it."
      ],
      "metadata": {
        "id": "sGz6pkqBj4SV"
      }
    },
    {
      "cell_type": "code",
      "source": [
        "# Create a list containing the numbers 1 to 5.\n",
        "my_list = [1, 2, 3, 4, 5]\n",
        "\n",
        "# Print the list.\n",
        "print(my_list)"
      ],
      "metadata": {
        "colab": {
          "base_uri": "https://localhost:8080/"
        },
        "id": "StlUshh2j3sE",
        "outputId": "390b8f65-0b16-4602-c83d-6424b7fdeb23"
      },
      "execution_count": 6,
      "outputs": [
        {
          "output_type": "stream",
          "name": "stdout",
          "text": [
            "[1, 2, 3, 4, 5]\n"
          ]
        }
      ]
    },
    {
      "cell_type": "markdown",
      "source": [
        "7. Write a code to append the number 10 to the list [1, 2, 3, 4]"
      ],
      "metadata": {
        "id": "0yzKzmwHkIm5"
      }
    },
    {
      "cell_type": "code",
      "source": [
        "my_list = [1, 2, 3, 4]\n",
        "\n",
        "# Append the number 10 to the end of the list\n",
        "my_list.append(10)\n",
        "\n",
        "# Print the updated list\n",
        "print(my_list)\n"
      ],
      "metadata": {
        "colab": {
          "base_uri": "https://localhost:8080/"
        },
        "id": "Yj5Aiv-UkR22",
        "outputId": "6c69d809-86b2-4383-85df-90354e5240ad"
      },
      "execution_count": 7,
      "outputs": [
        {
          "output_type": "stream",
          "name": "stdout",
          "text": [
            "[1, 2, 3, 4, 10]\n"
          ]
        }
      ]
    },
    {
      "cell_type": "markdown",
      "source": [
        "8.Write a code to remove the number 3 from the list [1, 2, 3, 4, 5]"
      ],
      "metadata": {
        "id": "OGBCXyFQkVlf"
      }
    },
    {
      "cell_type": "code",
      "source": [
        "my_list = [1, 2, 3, 4, 5]\n",
        "\n",
        "# Remove the number 3 from the list\n",
        "my_list.remove(3)\n",
        "\n",
        "# Print the updated list\n",
        "print(my_list)\n"
      ],
      "metadata": {
        "colab": {
          "base_uri": "https://localhost:8080/"
        },
        "id": "WmhRG7I1kMK1",
        "outputId": "9f560f7a-a47e-4ef7-ee4c-dd692b871f8b"
      },
      "execution_count": 8,
      "outputs": [
        {
          "output_type": "stream",
          "name": "stdout",
          "text": [
            "[1, 2, 4, 5]\n"
          ]
        }
      ]
    },
    {
      "cell_type": "markdown",
      "source": [
        "9.Write a code to access the second element in the list ['a', 'b', 'c', 'd']"
      ],
      "metadata": {
        "id": "b5edlxv3khKH"
      }
    },
    {
      "cell_type": "code",
      "source": [
        "my_list = ['a', 'b', 'c', 'd']\n",
        "\n",
        "# Access the second element (index 1)\n",
        "second_element = my_list[1]\n",
        "\n",
        "# Print the second element\n",
        "print(second_element)\n"
      ],
      "metadata": {
        "colab": {
          "base_uri": "https://localhost:8080/"
        },
        "id": "GlC7w2PPkk4u",
        "outputId": "07f1d1cc-cbaa-4cf3-9094-8e5001d74636"
      },
      "execution_count": 9,
      "outputs": [
        {
          "output_type": "stream",
          "name": "stdout",
          "text": [
            "b\n"
          ]
        }
      ]
    },
    {
      "cell_type": "markdown",
      "source": [
        "10.Write a code to reverse the list [10, 20, 30, 40, 50]."
      ],
      "metadata": {
        "id": "-yXMA_lAkqzh"
      }
    },
    {
      "cell_type": "code",
      "source": [
        "my_list = [10, 20, 30, 40, 50]\n",
        "\n",
        "\n",
        "reversed_list_iterator = reversed(my_list)\n",
        "reversed_list = list(reversed_list_iterator) # Convert the iterator to a list\n",
        "print(\"Reversed list (using reversed()):\", reversed_list)\n",
        "\n",
        "\n",
        "my_list.reverse()\n",
        "print(\"Reversed list (using reverse()):\", my_list)\n"
      ],
      "metadata": {
        "colab": {
          "base_uri": "https://localhost:8080/"
        },
        "id": "cVkeaZYtkxRS",
        "outputId": "8e0597b5-ca8f-4304-829b-1a3d1f7b3232"
      },
      "execution_count": 10,
      "outputs": [
        {
          "output_type": "stream",
          "name": "stdout",
          "text": [
            "Reversed list (using reversed()): [50, 40, 30, 20, 10]\n",
            "Reversed list (using reverse()): [50, 40, 30, 20, 10]\n"
          ]
        }
      ]
    },
    {
      "cell_type": "markdown",
      "source": [
        "11.Write a code to create a tuple with the elements 100, 200, 300 and print it"
      ],
      "metadata": {
        "id": "JoyApdGBk5AV"
      }
    },
    {
      "cell_type": "code",
      "source": [
        "# Create a tuple named my_tuple containing the elements 100, 200, and 300.\n",
        "my_tuple = (100, 200, 300)\n",
        "\n",
        "# Print the tuple.\n",
        "print(my_tuple)\n"
      ],
      "metadata": {
        "colab": {
          "base_uri": "https://localhost:8080/"
        },
        "id": "tBQjPKmYlClf",
        "outputId": "969cba83-7444-4765-d6af-0ad0e9eef98a"
      },
      "execution_count": 11,
      "outputs": [
        {
          "output_type": "stream",
          "name": "stdout",
          "text": [
            "(100, 200, 300)\n"
          ]
        }
      ]
    },
    {
      "cell_type": "markdown",
      "source": [
        "12. Write a code to access the second-to-last element of the tuple ('red', 'green', 'blue', 'yellow')"
      ],
      "metadata": {
        "id": "kAgSEQjSlGVi"
      }
    },
    {
      "cell_type": "code",
      "source": [
        "my_tuple = ('red', 'green', 'blue', 'yellow')\n",
        "\n",
        "# Access the second-to-last element using negative indexing\n",
        "second_to_last_element = my_tuple[-2]\n",
        "\n",
        "# Print the second-to-last element\n",
        "print(second_to_last_element)\n"
      ],
      "metadata": {
        "colab": {
          "base_uri": "https://localhost:8080/"
        },
        "id": "ryG0h5zAlKVZ",
        "outputId": "79606b2f-9960-44b6-bbe9-596d4e0fff05"
      },
      "execution_count": 12,
      "outputs": [
        {
          "output_type": "stream",
          "name": "stdout",
          "text": [
            "blue\n"
          ]
        }
      ]
    },
    {
      "cell_type": "markdown",
      "source": [
        "13.Write a code to find the minimum number in the tuple (10, 20, 5, 15)."
      ],
      "metadata": {
        "id": "Q34iwovTlPyk"
      }
    },
    {
      "cell_type": "code",
      "source": [
        "my_tuple = (10, 20, 5, 15)\n",
        "\n",
        "# Find the minimum number using the min() function\n",
        "min_number = min(my_tuple)\n",
        "\n",
        "# Print the minimum number\n",
        "print(min_number)\n"
      ],
      "metadata": {
        "colab": {
          "base_uri": "https://localhost:8080/"
        },
        "id": "jD0Ml-RJlVXk",
        "outputId": "4fee9184-b36f-4262-ad53-830488e882f3"
      },
      "execution_count": 13,
      "outputs": [
        {
          "output_type": "stream",
          "name": "stdout",
          "text": [
            "5\n"
          ]
        }
      ]
    },
    {
      "cell_type": "markdown",
      "source": [
        "14. Write a code to find the index of the element \"cat\" in the tuple ('dog', 'cat', 'rabbit')."
      ],
      "metadata": {
        "id": "ds_be49ClYBX"
      }
    },
    {
      "cell_type": "code",
      "source": [
        "my_tuple = (10, 20, 5, 15)\n",
        "\n",
        "# Find the minimum number using the min() function\n",
        "min_number = min(my_tuple)\n",
        "\n",
        "# Print the minimum number\n",
        "print(min_number)\n"
      ],
      "metadata": {
        "colab": {
          "base_uri": "https://localhost:8080/"
        },
        "id": "j0yzpd7LlbhJ",
        "outputId": "f2596e08-25e8-4e94-c853-86551f67c0df"
      },
      "execution_count": 14,
      "outputs": [
        {
          "output_type": "stream",
          "name": "stdout",
          "text": [
            "5\n"
          ]
        }
      ]
    },
    {
      "cell_type": "markdown",
      "source": [
        "15.Write a code to create a tuple containing three different fruits and check if \"kiwi\" is in it."
      ],
      "metadata": {
        "id": "eXhUWL_Plf3B"
      }
    },
    {
      "cell_type": "code",
      "source": [
        "# Create a tuple containing three different fruits\n",
        "fruits_tuple = (\"apple\", \"banana\", \"orange\")\n",
        "\n",
        "# Check if \"kiwi\" is in the tuple\n",
        "is_kiwi_in_tuple = \"kiwi\" in fruits_tuple\n",
        "\n",
        "# Print the result\n",
        "print(is_kiwi_in_tuple)\n"
      ],
      "metadata": {
        "colab": {
          "base_uri": "https://localhost:8080/"
        },
        "id": "D4mnlb2LllJu",
        "outputId": "e5a25489-3d0c-4329-8fbb-491a45dd6620"
      },
      "execution_count": 15,
      "outputs": [
        {
          "output_type": "stream",
          "name": "stdout",
          "text": [
            "False\n"
          ]
        }
      ]
    },
    {
      "cell_type": "markdown",
      "source": [
        "16. Write a code to create a set with the elements 'a', 'b', 'c' and print it."
      ],
      "metadata": {
        "id": "B_XU5_Ixlnyv"
      }
    },
    {
      "cell_type": "code",
      "source": [
        "# Create a set named my_set containing the elements 'a', 'b', and 'c'.\n",
        "my_set = {'a', 'b', 'c'}\n",
        "\n",
        "# Print the set.\n",
        "print(my_set)\n"
      ],
      "metadata": {
        "colab": {
          "base_uri": "https://localhost:8080/"
        },
        "id": "XGdhquRBlyJu",
        "outputId": "9e961266-28fd-41f7-afb2-5c043f8d3215"
      },
      "execution_count": 16,
      "outputs": [
        {
          "output_type": "stream",
          "name": "stdout",
          "text": [
            "{'a', 'b', 'c'}\n"
          ]
        }
      ]
    },
    {
      "cell_type": "markdown",
      "source": [
        "17.Write a code to clear all elements from the set {1, 2, 3, 4, 5}."
      ],
      "metadata": {
        "id": "Uk873Dp-l3Fy"
      }
    },
    {
      "cell_type": "code",
      "source": [
        "my_set = {1, 2, 3, 4, 5}\n",
        "\n",
        "# Clear all elements from the set using the clear() method.\n",
        "my_set.clear()\n",
        "\n",
        "# Print the cleared set.  It will be an empty set.\n",
        "print(my_set)\n"
      ],
      "metadata": {
        "colab": {
          "base_uri": "https://localhost:8080/"
        },
        "id": "4yzWcTtll9Kk",
        "outputId": "f65f9356-86bd-4d9c-82ec-4f3dc56c9613"
      },
      "execution_count": 17,
      "outputs": [
        {
          "output_type": "stream",
          "name": "stdout",
          "text": [
            "set()\n"
          ]
        }
      ]
    },
    {
      "cell_type": "markdown",
      "source": [
        "18.  Write a code to remove the element 4 from the set {1, 2, 3, 4}.\n"
      ],
      "metadata": {
        "id": "6t34FqPimB5Y"
      }
    },
    {
      "cell_type": "markdown",
      "source": [],
      "metadata": {
        "id": "q0jARMDtmSrm"
      }
    },
    {
      "cell_type": "code",
      "source": [
        "my_set = {1, 2, 3, 4}\n",
        "my_set.discard(4)\n",
        "print(my_set)"
      ],
      "metadata": {
        "colab": {
          "base_uri": "https://localhost:8080/"
        },
        "id": "l1EAuoQrmirK",
        "outputId": "694b3971-4c55-47e2-e359-2e6c7cdc8beb"
      },
      "execution_count": 19,
      "outputs": [
        {
          "output_type": "stream",
          "name": "stdout",
          "text": [
            "{1, 2, 3}\n"
          ]
        }
      ]
    },
    {
      "cell_type": "markdown",
      "source": [
        "19. Write a code to find the union of two sets {1, 2, 3} and {3, 4, 5}."
      ],
      "metadata": {
        "id": "WZG2lpCSmpX1"
      }
    },
    {
      "cell_type": "code",
      "source": [
        "set1 = {1, 2, 3}\n",
        "set2 = {3, 4, 5}\n",
        "\n",
        "# Calculate the union of the two sets using the union() method.\n",
        "union_set = set1.union(set2)\n",
        "\n",
        "# Print the resulting union set.\n",
        "print(union_set)  # Output: {1, 2, 3, 4, 5}\n",
        "\n",
        "# Alternative method: Using the | operator\n",
        "union_set_alternative = set1 | set2\n",
        "print(union_set_alternative) # Output: {1, 2, 3, 4, 5}\n"
      ],
      "metadata": {
        "colab": {
          "base_uri": "https://localhost:8080/"
        },
        "id": "qD1RIxC5oOwN",
        "outputId": "3fb5be6b-12ee-486e-9e5b-a3e13cb3d321"
      },
      "execution_count": 20,
      "outputs": [
        {
          "output_type": "stream",
          "name": "stdout",
          "text": [
            "{1, 2, 3, 4, 5}\n",
            "{1, 2, 3, 4, 5}\n"
          ]
        }
      ]
    },
    {
      "cell_type": "markdown",
      "source": [
        "20.Write a code to find the intersection of two sets {1, 2, 3} and {2, 3, 4}."
      ],
      "metadata": {
        "id": "NSyb9Izvobad"
      }
    },
    {
      "cell_type": "code",
      "source": [
        "set1 = {1, 2, 3}\n",
        "set2 = {2, 3, 4}\n",
        "\n",
        "# Find the intersection using the intersection() method.\n",
        "intersection_set = set1.intersection(set2)\n",
        "\n",
        "# Print the intersection set.\n",
        "print(intersection_set)  # Output: {2, 3}\n",
        "\n",
        "# Alternative method: Using the & operator\n",
        "intersection_set_alternative = set1 & set2\n",
        "print(intersection_set_alternative) # Output: {2, 3}\n"
      ],
      "metadata": {
        "colab": {
          "base_uri": "https://localhost:8080/"
        },
        "id": "JWk87dhmoik7",
        "outputId": "f0098274-fb7d-44ee-dc58-36f0139c2f58"
      },
      "execution_count": 21,
      "outputs": [
        {
          "output_type": "stream",
          "name": "stdout",
          "text": [
            "{2, 3}\n",
            "{2, 3}\n"
          ]
        }
      ]
    },
    {
      "cell_type": "markdown",
      "source": [
        "21.Write a code to create a dictionary with the keys \"name\", \"age\", and \"city\", and print it."
      ],
      "metadata": {
        "id": "nWJ9iZ6golTd"
      }
    },
    {
      "cell_type": "code",
      "source": [
        "# Create a dictionary named my_dictionary with the specified keys and values.\n",
        "my_dictionary = {\n",
        "    \"name\": \"John Doe\",\n",
        "    \"age\": 30,\n",
        "    \"city\": \"New York\"\n",
        "}\n",
        "\n",
        "# Print the dictionary.\n",
        "print(my_dictionary)\n"
      ],
      "metadata": {
        "colab": {
          "base_uri": "https://localhost:8080/"
        },
        "id": "5vFq33pyosyJ",
        "outputId": "974a661d-c361-4fb0-f473-446161778dbf"
      },
      "execution_count": 22,
      "outputs": [
        {
          "output_type": "stream",
          "name": "stdout",
          "text": [
            "{'name': 'John Doe', 'age': 30, 'city': 'New York'}\n"
          ]
        }
      ]
    },
    {
      "cell_type": "markdown",
      "source": [
        "22.Write a code to add a new key-value pair \"country\": \"USA\" to the dictionary {'name': 'John', 'age': 25}."
      ],
      "metadata": {
        "id": "xSrvrme9ou6D"
      }
    },
    {
      "cell_type": "code",
      "source": [
        "my_dictionary = {'name': 'John', 'age': 25}\n",
        "\n",
        "# Add the new key-value pair to the dictionary.\n",
        "my_dictionary[\"country\"] = \"USA\"\n",
        "\n",
        "# Print the updated dictionary.\n",
        "print(my_dictionary)\n"
      ],
      "metadata": {
        "colab": {
          "base_uri": "https://localhost:8080/"
        },
        "id": "njc6OcBSo2c3",
        "outputId": "5e7ee003-33b3-4207-87ee-b039dd6be738"
      },
      "execution_count": 23,
      "outputs": [
        {
          "output_type": "stream",
          "name": "stdout",
          "text": [
            "{'name': 'John', 'age': 25, 'country': 'USA'}\n"
          ]
        }
      ]
    },
    {
      "cell_type": "markdown",
      "source": [
        "23.Write a code to access the value associated with the key \"name\" in the dictionary {'name': 'Alice', 'age': 30}."
      ],
      "metadata": {
        "id": "h-6_Jq8jo8ql"
      }
    },
    {
      "cell_type": "code",
      "source": [
        "my_dictionary = {'name': 'Alice', 'age': 30}\n",
        "\n",
        "# Access the value associated with the key \"name\".\n",
        "name_value = my_dictionary[\"name\"]\n",
        "\n",
        "# Print the value.\n",
        "print(name_value)\n"
      ],
      "metadata": {
        "colab": {
          "base_uri": "https://localhost:8080/"
        },
        "id": "TQLkc7aupJRo",
        "outputId": "f8bec89d-81e4-48e5-9e87-908af85b8dd0"
      },
      "execution_count": 24,
      "outputs": [
        {
          "output_type": "stream",
          "name": "stdout",
          "text": [
            "Alice\n"
          ]
        }
      ]
    },
    {
      "cell_type": "markdown",
      "source": [
        "24.Write a code to remove the key \"age\" from the dictionary {'name': 'Bob', 'age': 22, 'city': 'New York'}."
      ],
      "metadata": {
        "id": "nWzbZNrjpK8J"
      }
    },
    {
      "cell_type": "code",
      "source": [
        "my_dictionary = {'name': 'Bob', 'age': 22, 'city': 'New York'}\n",
        "\n",
        "# Remove the key \"age\" from the dictionary.\n",
        "del my_dictionary[\"age\"]\n",
        "\n",
        "# Print the updated dictionary.\n",
        "print(my_dictionary)\n"
      ],
      "metadata": {
        "colab": {
          "base_uri": "https://localhost:8080/"
        },
        "id": "Mi2UQ82tpV3M",
        "outputId": "462b959c-1cb4-45ec-9691-59dac7cd24e1"
      },
      "execution_count": 25,
      "outputs": [
        {
          "output_type": "stream",
          "name": "stdout",
          "text": [
            "{'name': 'Bob', 'city': 'New York'}\n"
          ]
        }
      ]
    },
    {
      "cell_type": "markdown",
      "source": [
        "25.Write a code to check if the key \"city\" exists in the dictionary {'name': 'Alice', 'city': 'Paris'}."
      ],
      "metadata": {
        "id": "HT2c7nEapZ0S"
      }
    },
    {
      "cell_type": "code",
      "source": [
        "my_dictionary = {'name': 'Alice', 'city': 'Paris'}\n",
        "\n",
        "# Check if the key \"city\" exists in the dictionary.\n",
        "if \"city\" in my_dictionary:\n",
        "    print(\"The key 'city' exists in the dictionary.\")\n",
        "else:\n",
        "    print(\"The key 'city' does not exist in the dictionary.\")\n"
      ],
      "metadata": {
        "colab": {
          "base_uri": "https://localhost:8080/"
        },
        "id": "L3UfELIWpidX",
        "outputId": "680b3937-7ff3-480d-b61f-6e2dcbc0dbb6"
      },
      "execution_count": 26,
      "outputs": [
        {
          "output_type": "stream",
          "name": "stdout",
          "text": [
            "The key 'city' exists in the dictionary.\n"
          ]
        }
      ]
    },
    {
      "cell_type": "markdown",
      "source": [
        "26.Write a code to create a list, a tuple, and a dictionary, and print them all"
      ],
      "metadata": {
        "id": "X6FYrOk_pkpi"
      }
    },
    {
      "cell_type": "code",
      "source": [
        "# Create a list\n",
        "my_list = [1, 2, 3, 4, 5]\n",
        "\n",
        "# Create a tuple\n",
        "my_tuple = ('a', 'b', 'c', 'd')\n",
        "\n",
        "# Create a dictionary\n",
        "my_dictionary = {'name': 'John', 'age': 30, 'city': 'New York'}\n",
        "\n",
        "# Print the list\n",
        "print(\"List:\", my_list)\n",
        "\n",
        "# Print the tuple\n",
        "print(\"Tuple:\", my_tuple)\n",
        "\n",
        "# Print the dictionary\n",
        "print(\"Dictionary:\", my_dictionary)\n"
      ],
      "metadata": {
        "colab": {
          "base_uri": "https://localhost:8080/"
        },
        "id": "lE0hmJYdpwhJ",
        "outputId": "3ba082d9-00fc-4410-cf2a-f115111b91b2"
      },
      "execution_count": 27,
      "outputs": [
        {
          "output_type": "stream",
          "name": "stdout",
          "text": [
            "List: [1, 2, 3, 4, 5]\n",
            "Tuple: ('a', 'b', 'c', 'd')\n",
            "Dictionary: {'name': 'John', 'age': 30, 'city': 'New York'}\n"
          ]
        }
      ]
    },
    {
      "cell_type": "markdown",
      "source": [
        "27. Write a code to create a list of 5 random numbers between 1 and 100, sort it in ascending order, and print the\n",
        "result.(replaced)"
      ],
      "metadata": {
        "id": "wEiBpugupzjY"
      }
    },
    {
      "cell_type": "code",
      "source": [
        "import random\n",
        "\n",
        "# Generate a list of 5 random numbers between 1 and 100 (inclusive).\n",
        "random_numbers = [random.randint(1, 100) for _ in range(5)]\n",
        "\n",
        "# Sort the list in ascending order using the sort() method.\n",
        "random_numbers.sort()\n",
        "\n",
        "# Print the sorted list.\n",
        "print(\"Sorted list of random numbers:\", random_numbers)\n"
      ],
      "metadata": {
        "colab": {
          "base_uri": "https://localhost:8080/"
        },
        "id": "ClUAnAXXp7pj",
        "outputId": "68439e44-f4e6-483d-9da9-b6eb88639717"
      },
      "execution_count": 28,
      "outputs": [
        {
          "output_type": "stream",
          "name": "stdout",
          "text": [
            "Sorted list of random numbers: [11, 35, 39, 81, 92]\n"
          ]
        }
      ]
    },
    {
      "cell_type": "markdown",
      "source": [
        "28.Write a code to create a list with strings and print the element at the third index"
      ],
      "metadata": {
        "id": "-RhILAPHqAnX"
      }
    },
    {
      "cell_type": "code",
      "source": [
        "# Create a list of strings\n",
        "string_list = [\"apple\", \"banana\", \"cherry\", \"date\", \"fig\"]\n",
        "\n",
        "# Access the element at the third index (index 2)\n",
        "third_element = string_list[2]\n",
        "\n",
        "# Print the third element\n",
        "print(third_element)  # Output: cherry\n"
      ],
      "metadata": {
        "colab": {
          "base_uri": "https://localhost:8080/"
        },
        "id": "T8xqMRJSqWrm",
        "outputId": "6f647269-a691-4b41-dfc5-5d0cc77c463e"
      },
      "execution_count": 29,
      "outputs": [
        {
          "output_type": "stream",
          "name": "stdout",
          "text": [
            "cherry\n"
          ]
        }
      ]
    },
    {
      "cell_type": "markdown",
      "source": [
        "29.Write a code to combine two dictionaries into one and print the result."
      ],
      "metadata": {
        "id": "4Db3oR0uqYkH"
      }
    },
    {
      "cell_type": "code",
      "source": [
        "# Define the two dictionaries\n",
        "dict1 = {'a': 1, 'b': 2}\n",
        "dict2 = {'c': 3, 'd': 4}\n",
        "\n",
        "# Method 1: Using the update() method\n",
        "combined_dict = dict1.copy()  # Create a copy to avoid modifying the original dict1\n",
        "combined_dict.update(dict2)\n",
        "print(\"Combined dictionary (using update()):\", combined_dict)\n",
        "\n",
        "# Method 2: Using the ** operator (Python 3.5+)\n",
        "combined_dict_alternative = {**dict1, **dict2}\n",
        "print(\"Combined dictionary (using ** operator):\", combined_dict_alternative)\n"
      ],
      "metadata": {
        "colab": {
          "base_uri": "https://localhost:8080/"
        },
        "id": "GO7iAo6MqgMj",
        "outputId": "b4ce9981-f91d-4244-a622-a8704c28be2d"
      },
      "execution_count": 30,
      "outputs": [
        {
          "output_type": "stream",
          "name": "stdout",
          "text": [
            "Combined dictionary (using update()): {'a': 1, 'b': 2, 'c': 3, 'd': 4}\n",
            "Combined dictionary (using ** operator): {'a': 1, 'b': 2, 'c': 3, 'd': 4}\n"
          ]
        }
      ]
    },
    {
      "cell_type": "markdown",
      "source": [
        "30. Write a code to convert a list of strings into a set."
      ],
      "metadata": {
        "id": "OdYArANtqnIR"
      }
    },
    {
      "cell_type": "code",
      "source": [
        "# Create a list of strings\n",
        "string_list = [\"apple\", \"banana\", \"cherry\", \"date\", \"apple\"]  # Note the duplicate \"apple\"\n",
        "\n",
        "# Convert the list to a set\n",
        "string_set = set(string_list)\n",
        "\n",
        "# Print the set\n",
        "print(string_set)  # Output: {\"apple\", \"banana\", \"cherry\", \"date\"}  (duplicates are removed, order may vary)\n"
      ],
      "metadata": {
        "colab": {
          "base_uri": "https://localhost:8080/"
        },
        "id": "9zc8B0k6qzkw",
        "outputId": "fc3ea726-abce-465f-fe05-7be5268899fe"
      },
      "execution_count": 31,
      "outputs": [
        {
          "output_type": "stream",
          "name": "stdout",
          "text": [
            "{'banana', 'date', 'cherry', 'apple'}\n"
          ]
        }
      ]
    }
  ]
}